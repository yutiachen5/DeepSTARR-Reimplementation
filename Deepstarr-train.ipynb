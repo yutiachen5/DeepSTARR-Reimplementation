{
 "cells": [
  {
   "cell_type": "markdown",
   "id": "19306bf4-d825-419e-8981-486a2196428b",
   "metadata": {},
   "source": [
    "# DeepSTARR Training"
   ]
  },
  {
   "cell_type": "code",
   "execution_count": 1,
   "id": "36e8c667-74ec-4715-9756-19a751eb8b9b",
   "metadata": {},
   "outputs": [
    {
     "name": "stderr",
     "output_type": "stream",
     "text": [
      "2024-12-07 20:20:18.739393: E external/local_xla/xla/stream_executor/cuda/cuda_fft.cc:485] Unable to register cuFFT factory: Attempting to register factory for plugin cuFFT when one has already been registered\n",
      "2024-12-07 20:20:19.165694: E external/local_xla/xla/stream_executor/cuda/cuda_dnn.cc:8454] Unable to register cuDNN factory: Attempting to register factory for plugin cuDNN when one has already been registered\n",
      "2024-12-07 20:20:19.236793: E external/local_xla/xla/stream_executor/cuda/cuda_blas.cc:1452] Unable to register cuBLAS factory: Attempting to register factory for plugin cuBLAS when one has already been registered\n",
      "2024-12-07 20:20:21.529426: I tensorflow/core/platform/cpu_feature_guard.cc:210] This TensorFlow binary is optimized to use available CPU instructions in performance-critical operations.\n",
      "To enable the following instructions: AVX2 AVX512F FMA, in other operations, rebuild TensorFlow with the appropriate compiler flags.\n",
      "2024-12-07 20:20:29.125821: W tensorflow/compiler/tf2tensorrt/utils/py_utils.cc:38] TF-TRT Warning: Could not find TensorRT\n"
     ]
    }
   ],
   "source": [
    "# adapted from Deepstarr colab notebook: https://colab.research.google.com/drive/1Xgak40TuxWWLh5P5ARf0-4Xo0BcRn0Gd \n",
    "\n",
    "import sys\n",
    "import time\n",
    "import sklearn\n",
    "import json\n",
    "import tensorflow as tf\n",
    "import keras\n",
    "import keras_nlp\n",
    "import keras.layers as kl\n",
    "from keras.layers import Conv1D, MaxPooling1D, AveragePooling1D\n",
    "from keras_nlp.layers import SinePositionEncoding, TransformerEncoder\n",
    "from keras.layers import BatchNormalization\n",
    "from keras.models import Sequential, Model, load_model\n",
    "from keras.optimizers import Adam\n",
    "from keras.callbacks import EarlyStopping, History, ModelCheckpoint\n",
    "import pandas as pd\n",
    "import numpy as np\n",
    "import matplotlib.pyplot as plt\n",
    "import seaborn as sns\n",
    "from scipy import stats\n",
    "from collections import Counter\n",
    "from itertools import product\n",
    "from sklearn.metrics import mean_squared_error"
   ]
  },
  {
   "cell_type": "code",
   "execution_count": 2,
   "id": "013edf92-ebf2-4d4b-bbe0-a4e5f3a7c242",
   "metadata": {},
   "outputs": [],
   "source": [
    "startTime=time.time()"
   ]
  },
  {
   "cell_type": "code",
   "execution_count": 3,
   "id": "a60f302e-a444-4282-9f09-4b149276df43",
   "metadata": {},
   "outputs": [],
   "source": [
    "def LoadConfig(config):\n",
    "    with open(config, 'r') as file:\n",
    "        params = json.load(file)\n",
    "    return params"
   ]
  },
  {
   "cell_type": "code",
   "execution_count": 4,
   "id": "069a612e-7bb9-4832-89a3-34be6e50fad9",
   "metadata": {},
   "outputs": [],
   "source": [
    "def one_hot_encode(seq):\n",
    "    nucleotide_dict = {'A': [1, 0, 0, 0],\n",
    "                       'C': [0, 1, 0, 0],\n",
    "                       'G': [0, 0, 1, 0],\n",
    "                       'T': [0, 0, 0, 1],\n",
    "                       'N': [0, 0, 0, 0]} \n",
    "    return np.array([nucleotide_dict[nuc] for nuc in seq])"
   ]
  },
  {
   "cell_type": "code",
   "execution_count": 5,
   "id": "e7fffd8d-543d-40dd-bff0-229f03210d05",
   "metadata": {},
   "outputs": [],
   "source": [
    "def kmer_encode(sequence, k=3):\n",
    "    sequence = sequence.upper()\n",
    "    kmers = [sequence[i:i+k] for i in range(len(sequence) - k + 1)]\n",
    "    kmer_counts = Counter(kmers)\n",
    "    return {kmer: kmer_counts.get(kmer, 0) / len(kmers) for kmer in [''.join(p) for p in product('ACGT', repeat=k)]}\n",
    "\n",
    "def kmer_features(seq, k=3):\n",
    "    all_kmers = [''.join(p) for p in product('ACGT', repeat=k)]\n",
    "    feature_matrix = []\n",
    "    kmer_freqs = kmer_encode(seq, k)\n",
    "    feature_vector = [kmer_freqs[kmer] for kmer in all_kmers]\n",
    "    feature_matrix.append(feature_vector)\n",
    "    return np.array(feature_matrix)"
   ]
  },
  {
   "cell_type": "code",
   "execution_count": 6,
   "id": "26831627-1cf5-440b-a567-d13edf1a21c7",
   "metadata": {},
   "outputs": [],
   "source": [
    "def prepare_input(data_set, params):\n",
    "    if params['encode'] == 'one-hot':\n",
    "        seq_matrix = np.array(data_set['Sequence'].apply(one_hot_encode).tolist())  # (number of sequences, length of sequences, nucleotides)\n",
    "    elif params['encode'] == 'k-mer':\n",
    "        seq_matrix = np.array(data_set['Sequence'].apply(kmer_features, k=3).tolist())  # (number of sequences, 1, 4^k)\n",
    "    else:\n",
    "        raise Exception ('wrong encoding method')\n",
    "\n",
    "    Y_dev = data_set.Dev_log2_enrichment\n",
    "    Y_hk = data_set.Hk_log2_enrichment\n",
    "    Y = [Y_dev, Y_hk]\n",
    "\n",
    "    return seq_matrix, Y"
   ]
  },
  {
   "cell_type": "code",
   "execution_count": 7,
   "id": "56567357-61dd-4305-99a1-a8206e5d941c",
   "metadata": {},
   "outputs": [],
   "source": [
    "def DeepSTARR(params):\n",
    "    if params['encode'] == 'one-hot':\n",
    "        input = kl.Input(shape=(249, 4)) \n",
    "    elif params['encode'] == 'k-mer':\n",
    "        input = kl.Input(shape=(1, 64)) \n",
    "\n",
    "    for i in range(params['convolution_layers']['n_layers']):\n",
    "        x = kl.Conv1D(params['convolution_layers']['filters'][i],\n",
    "                      kernel_size = params['convolution_layers']['kernel_sizes'][i],\n",
    "                      padding = params['pad'],\n",
    "                      name=str('Conv1D_'+str(i+1)))(input)\n",
    "        x = kl.BatchNormalization()(x)\n",
    "        x = kl.Activation('relu')(x)\n",
    "        if params['encode'] == 'one-hot':\n",
    "            x = kl.MaxPooling1D(2)(x)\n",
    "\n",
    "        if params['dropout_conv'] == 'yes': x = kl.Dropout(params['dropout_prob'])(x)\n",
    "\n",
    "    # optional attention layers\n",
    "    for i in range(params['transformer_layers']['n_layers']):\n",
    "        if i == 0:\n",
    "            x = x + keras_nlp.layers.SinePositionEncoding()(x)\n",
    "        x = TransformerEncoder(intermediate_dim = params['transformer_layers']['attn_key_dim'][i],\n",
    "                                num_heads = params['transformer_layers']['attn_heads'][i],\n",
    "                                dropout = params['dropout_prob'])(x)\n",
    "    \n",
    "    # After the convolutional layers, the output is flattened and passed through a series of fully connected/dense layers\n",
    "    # Flattening converts a multi-dimensional input (from the convolutions) into a one-dimensional array (to be connected with the fully connected layers\n",
    "    x = kl.Flatten()(x)\n",
    "    \n",
    "    # Fully connected layers\n",
    "    # Each fully connected layer is followed by batch normalization, ReLU activation, and dropout\n",
    "    for i in range(params['n_dense_layer']):\n",
    "        x = kl.Dense(params['dense_neurons'+str(i+1)],\n",
    "                     name=str('Dense_'+str(i+1)))(x)\n",
    "        x = kl.BatchNormalization()(x)\n",
    "        x = kl.Activation('relu')(x)\n",
    "        x = kl.Dropout(params['dropout_prob'])(x)\n",
    "    \n",
    "    # Main model bottleneck\n",
    "    bottleneck = x\n",
    "    \n",
    "    # heads per task (developmental and housekeeping enhancer activities)\n",
    "    # The final output layer is a pair of dense layers, one for each task (developmental and housekeeping enhancer activities), each with a single neuron and a linear activation function\n",
    "    tasks = ['Dev', 'Hk']\n",
    "    outputs = []\n",
    "    for task in tasks:\n",
    "        outputs.append(kl.Dense(1, activation='linear', name=str('Dense_' + task))(bottleneck))\n",
    "    \n",
    "    # Build Keras model object\n",
    "    model = Model([input], outputs)\n",
    "    model.compile(Adam(learning_rate=params['lr']), # Adam optimizer\n",
    "                  loss=['mse', 'mse'], # loss is Mean Squared Error (MSE)\n",
    "                  loss_weights=[1, 1]) # in case we want to change the weights of each output. For now keep them with same weights\n",
    "\n",
    "    return model, params"
   ]
  },
  {
   "cell_type": "code",
   "execution_count": 8,
   "id": "32ac318b-afe9-4a63-a7f3-52e4076b10d2",
   "metadata": {},
   "outputs": [],
   "source": [
    "def train(selected_model, X_train, Y_train, X_valid, Y_valid, params):\n",
    "    my_history=selected_model.fit(X_train, Y_train,\n",
    "                                  validation_data=(X_valid, Y_valid), \n",
    "                                  batch_size=params['batch_size'],\n",
    "                                  epochs=params['epochs'],\n",
    "                                  callbacks=[EarlyStopping(patience=params['early_stop'], monitor=\"val_loss\", restore_best_weights=True), History()])\n",
    "\n",
    "    return selected_model, my_history"
   ]
  },
  {
   "cell_type": "code",
   "execution_count": 9,
   "id": "9b5aff9c-d341-4497-b27f-c6a64d9e55cc",
   "metadata": {},
   "outputs": [],
   "source": [
    "def summary_statistics(X, Y, set, task, main_model, main_params):\n",
    "    pred = main_model.predict(X, batch_size=main_params['batch_size']) # predict\n",
    "    if task ==\"Dev\":\n",
    "        i=0\n",
    "    if task ==\"Hk\":\n",
    "        i=1\n",
    "    print(set + ' MSE ' + task + ' = ' + str(\"{0:0.2f}\".format(mean_squared_error(Y, pred[i].squeeze()))))\n",
    "    print(set + ' PCC ' + task + ' = ' + str(\"{0:0.2f}\".format(stats.pearsonr(Y, pred[i].squeeze())[0])))\n",
    "    print(set + ' SCC ' + task + ' = ' + str(\"{0:0.2f}\".format(stats.spearmanr(Y, pred[i].squeeze())[0])))"
   ]
  },
  {
   "cell_type": "code",
   "execution_count": 10,
   "id": "27cb9fdc-40b2-4610-8941-848097ed8aa7",
   "metadata": {},
   "outputs": [],
   "source": [
    "def my_scatter_density(X, Y, set, task, main_model, main_params, label):\n",
    "    pred = main_model.predict(X, batch_size=main_params['batch_size'])\n",
    "    if task ==\"Dev\":\n",
    "        i=0\n",
    "        c=\"red\"\n",
    "    if task ==\"Hk\":\n",
    "        i=1\n",
    "        c=\"blue\"\n",
    "\n",
    "    g = sns.jointplot(x=Y, y=pred[i].squeeze(), kind=\"kde\", fill=True, color=c)\n",
    "    g.ax_marg_x.remove() # remove marginal densities\n",
    "    g.ax_marg_y.remove() # remove marginal densities\n",
    "\n",
    "    # add regression line of data\n",
    "    # sns.regplot(x=Y, y=pred[i].squeeze(), scatter=False, color='black', ax=g.ax_joint)\n",
    "\n",
    "    # add expected regression line\n",
    "    x0, x1 = g.ax_joint.get_xlim()\n",
    "    y0, y1 = g.ax_joint.get_ylim()\n",
    "    lims = [max(x0, y0), min(x1, y1)]\n",
    "    g.ax_joint.plot(lims, lims, 'w', linestyle='dashed', transform=g.ax_joint.transData, color='grey')\n",
    "\n",
    "    # same axes ranges\n",
    "    g.ax_joint.set_aspect('equal')\n",
    "\n",
    "    PCC = str(\"{0:0.2f}\".format(stats.pearsonr(Y, pred[i].squeeze())[0]))\n",
    "    plt.xlabel('Measured expression [log2]')\n",
    "    plt.ylabel('Predicted expression [log2]')\n",
    "    plt.title(str(task + ' - ' + set + ' set (PCC=' + PCC + ')'))\n",
    "    plt.show()\n",
    "    # plt.savefig(outdir + '/' + label + '-' + set + '-' + task + '.png')\n"
   ]
  },
  {
   "cell_type": "code",
   "execution_count": 11,
   "id": "47f6b362-c8b5-411b-ae58-606288f5db10",
   "metadata": {},
   "outputs": [],
   "source": [
    "def main(config, indir, outdir, label):\n",
    "    data = pd.read_table(indir)\n",
    "    params = LoadConfig(config)\n",
    "\n",
    "    X_train, Y_train = prepare_input(data[data['set'] == \"Train\"], params)\n",
    "    X_valid, Y_valid = prepare_input(data[data['set'] == \"Val\"], params)\n",
    "    X_test, Y_test = prepare_input(data[data['set'] == \"Test\"], params)\n",
    "\n",
    "    DeepSTARR(params)[0].summary() \n",
    "    DeepSTARR(params)[1] \n",
    "    main_model, main_params = DeepSTARR(params)\n",
    "    main_model, my_history = train(main_model, X_train, Y_train, X_valid, Y_valid, main_params)\n",
    "\n",
    "    endTime=time.time()\n",
    "    seconds=endTime-startTime\n",
    "    print(\"Total training time:\",round(seconds/60,2),\"minutes\")\n",
    "\n",
    "    summary_statistics(X_train, Y_train[0], \"train\", \"Dev\", main_model, main_params)\n",
    "    summary_statistics(X_valid, Y_valid[0], \"validation\", \"Dev\", main_model, main_params)\n",
    "    summary_statistics(X_test, Y_test[0], \"test\", \"Dev\", main_model, main_params)\n",
    "\n",
    "    summary_statistics(X_train, Y_train[1], \"train\", \"Hk\", main_model, main_params)\n",
    "    summary_statistics(X_valid, Y_valid[1], \"validation\", \"Hk\", main_model, main_params)\n",
    "    summary_statistics(X_test, Y_test[1], \"test\", \"Hk\", main_model, main_params)\n",
    "\n",
    "    my_scatter_density(X_test, Y_test[0], \"test\", \"Dev\", main_model, main_params, label)\n",
    "    my_scatter_density(X_test, Y_test[1], \"test\", \"Hk\", main_model, main_params, label)\n",
    "\n",
    "    main_model.save(outdir + '/' + label + '.h5')\n"
   ]
  },
  {
   "cell_type": "code",
   "execution_count": 12,
   "id": "5a9f4989-603f-4c0d-b5b9-63a8d7ae0e84",
   "metadata": {},
   "outputs": [
    {
     "name": "stderr",
     "output_type": "stream",
     "text": [
      "WARNING: All log messages before absl::InitializeLog() is called are written to STDERR\n",
      "I0000 00:00:1733620877.850201 2341958 cuda_executor.cc:1015] successful NUMA node read from SysFS had negative value (-1), but there must be at least one NUMA node, so returning NUMA node zero. See more at https://github.com/torvalds/linux/blob/v6.0/Documentation/ABI/testing/sysfs-bus-pci#L344-L355\n",
      "I0000 00:00:1733620885.129892 2341958 cuda_executor.cc:1015] successful NUMA node read from SysFS had negative value (-1), but there must be at least one NUMA node, so returning NUMA node zero. See more at https://github.com/torvalds/linux/blob/v6.0/Documentation/ABI/testing/sysfs-bus-pci#L344-L355\n",
      "I0000 00:00:1733620885.133508 2341958 cuda_executor.cc:1015] successful NUMA node read from SysFS had negative value (-1), but there must be at least one NUMA node, so returning NUMA node zero. See more at https://github.com/torvalds/linux/blob/v6.0/Documentation/ABI/testing/sysfs-bus-pci#L344-L355\n",
      "I0000 00:00:1733620885.137134 2341958 cuda_executor.cc:1015] successful NUMA node read from SysFS had negative value (-1), but there must be at least one NUMA node, so returning NUMA node zero. See more at https://github.com/torvalds/linux/blob/v6.0/Documentation/ABI/testing/sysfs-bus-pci#L344-L355\n",
      "I0000 00:00:1733620885.139103 2341958 cuda_executor.cc:1015] successful NUMA node read from SysFS had negative value (-1), but there must be at least one NUMA node, so returning NUMA node zero. See more at https://github.com/torvalds/linux/blob/v6.0/Documentation/ABI/testing/sysfs-bus-pci#L344-L355\n",
      "I0000 00:00:1733620885.140902 2341958 cuda_executor.cc:1015] successful NUMA node read from SysFS had negative value (-1), but there must be at least one NUMA node, so returning NUMA node zero. See more at https://github.com/torvalds/linux/blob/v6.0/Documentation/ABI/testing/sysfs-bus-pci#L344-L355\n",
      "I0000 00:00:1733620885.280303 2341958 cuda_executor.cc:1015] successful NUMA node read from SysFS had negative value (-1), but there must be at least one NUMA node, so returning NUMA node zero. See more at https://github.com/torvalds/linux/blob/v6.0/Documentation/ABI/testing/sysfs-bus-pci#L344-L355\n",
      "I0000 00:00:1733620885.281840 2341958 cuda_executor.cc:1015] successful NUMA node read from SysFS had negative value (-1), but there must be at least one NUMA node, so returning NUMA node zero. See more at https://github.com/torvalds/linux/blob/v6.0/Documentation/ABI/testing/sysfs-bus-pci#L344-L355\n",
      "I0000 00:00:1733620885.283308 2341958 cuda_executor.cc:1015] successful NUMA node read from SysFS had negative value (-1), but there must be at least one NUMA node, so returning NUMA node zero. See more at https://github.com/torvalds/linux/blob/v6.0/Documentation/ABI/testing/sysfs-bus-pci#L344-L355\n",
      "2024-12-07 20:21:25.286514: I tensorflow/core/common_runtime/gpu/gpu_device.cc:2021] Created device /job:localhost/replica:0/task:0/device:GPU:0 with 30413 MB memory:  -> device: 0, name: NVIDIA RTX 5000 Ada Generation, pci bus id: 0000:13:00.0, compute capability: 8.9\n"
     ]
    },
    {
     "data": {
      "text/html": [
       "<pre style=\"white-space:pre;overflow-x:auto;line-height:normal;font-family:Menlo,'DejaVu Sans Mono',consolas,'Courier New',monospace\"><span style=\"font-weight: bold\">Model: \"functional\"</span>\n",
       "</pre>\n"
      ],
      "text/plain": [
       "\u001b[1mModel: \"functional\"\u001b[0m\n"
      ]
     },
     "metadata": {},
     "output_type": "display_data"
    },
    {
     "data": {
      "text/html": [
       "<pre style=\"white-space:pre;overflow-x:auto;line-height:normal;font-family:Menlo,'DejaVu Sans Mono',consolas,'Courier New',monospace\">┏━━━━━━━━━━━━━━━━━━━━━┳━━━━━━━━━━━━━━━━━━━┳━━━━━━━━━━━━┳━━━━━━━━━━━━━━━━━━━┓\n",
       "┃<span style=\"font-weight: bold\"> Layer (type)        </span>┃<span style=\"font-weight: bold\"> Output Shape      </span>┃<span style=\"font-weight: bold\">    Param # </span>┃<span style=\"font-weight: bold\"> Connected to      </span>┃\n",
       "┡━━━━━━━━━━━━━━━━━━━━━╇━━━━━━━━━━━━━━━━━━━╇━━━━━━━━━━━━╇━━━━━━━━━━━━━━━━━━━┩\n",
       "│ input_layer         │ (<span style=\"color: #00d7ff; text-decoration-color: #00d7ff\">None</span>, <span style=\"color: #00af00; text-decoration-color: #00af00\">249</span>, <span style=\"color: #00af00; text-decoration-color: #00af00\">4</span>)    │          <span style=\"color: #00af00; text-decoration-color: #00af00\">0</span> │ -                 │\n",
       "│ (<span style=\"color: #0087ff; text-decoration-color: #0087ff\">InputLayer</span>)        │                   │            │                   │\n",
       "├─────────────────────┼───────────────────┼────────────┼───────────────────┤\n",
       "│ Conv1D_4 (<span style=\"color: #0087ff; text-decoration-color: #0087ff\">Conv1D</span>)   │ (<span style=\"color: #00d7ff; text-decoration-color: #00d7ff\">None</span>, <span style=\"color: #00af00; text-decoration-color: #00af00\">249</span>, <span style=\"color: #00af00; text-decoration-color: #00af00\">128</span>)  │     <span style=\"color: #00af00; text-decoration-color: #00af00\">32,896</span> │ input_layer[<span style=\"color: #00af00; text-decoration-color: #00af00\">0</span>][<span style=\"color: #00af00; text-decoration-color: #00af00\">0</span>] │\n",
       "├─────────────────────┼───────────────────┼────────────┼───────────────────┤\n",
       "│ batch_normalizatio… │ (<span style=\"color: #00d7ff; text-decoration-color: #00d7ff\">None</span>, <span style=\"color: #00af00; text-decoration-color: #00af00\">249</span>, <span style=\"color: #00af00; text-decoration-color: #00af00\">128</span>)  │        <span style=\"color: #00af00; text-decoration-color: #00af00\">512</span> │ Conv1D_4[<span style=\"color: #00af00; text-decoration-color: #00af00\">0</span>][<span style=\"color: #00af00; text-decoration-color: #00af00\">0</span>]    │\n",
       "│ (<span style=\"color: #0087ff; text-decoration-color: #0087ff\">BatchNormalizatio…</span> │                   │            │                   │\n",
       "├─────────────────────┼───────────────────┼────────────┼───────────────────┤\n",
       "│ activation_3        │ (<span style=\"color: #00d7ff; text-decoration-color: #00d7ff\">None</span>, <span style=\"color: #00af00; text-decoration-color: #00af00\">249</span>, <span style=\"color: #00af00; text-decoration-color: #00af00\">128</span>)  │          <span style=\"color: #00af00; text-decoration-color: #00af00\">0</span> │ batch_normalizat… │\n",
       "│ (<span style=\"color: #0087ff; text-decoration-color: #0087ff\">Activation</span>)        │                   │            │                   │\n",
       "├─────────────────────┼───────────────────┼────────────┼───────────────────┤\n",
       "│ max_pooling1d_3     │ (<span style=\"color: #00d7ff; text-decoration-color: #00d7ff\">None</span>, <span style=\"color: #00af00; text-decoration-color: #00af00\">124</span>, <span style=\"color: #00af00; text-decoration-color: #00af00\">128</span>)  │          <span style=\"color: #00af00; text-decoration-color: #00af00\">0</span> │ activation_3[<span style=\"color: #00af00; text-decoration-color: #00af00\">0</span>][<span style=\"color: #00af00; text-decoration-color: #00af00\">…</span> │\n",
       "│ (<span style=\"color: #0087ff; text-decoration-color: #0087ff\">MaxPooling1D</span>)      │                   │            │                   │\n",
       "├─────────────────────┼───────────────────┼────────────┼───────────────────┤\n",
       "│ dropout_3 (<span style=\"color: #0087ff; text-decoration-color: #0087ff\">Dropout</span>) │ (<span style=\"color: #00d7ff; text-decoration-color: #00d7ff\">None</span>, <span style=\"color: #00af00; text-decoration-color: #00af00\">124</span>, <span style=\"color: #00af00; text-decoration-color: #00af00\">128</span>)  │          <span style=\"color: #00af00; text-decoration-color: #00af00\">0</span> │ max_pooling1d_3[<span style=\"color: #00af00; text-decoration-color: #00af00\">…</span> │\n",
       "├─────────────────────┼───────────────────┼────────────┼───────────────────┤\n",
       "│ flatten (<span style=\"color: #0087ff; text-decoration-color: #0087ff\">Flatten</span>)   │ (<span style=\"color: #00d7ff; text-decoration-color: #00d7ff\">None</span>, <span style=\"color: #00af00; text-decoration-color: #00af00\">15872</span>)     │          <span style=\"color: #00af00; text-decoration-color: #00af00\">0</span> │ dropout_3[<span style=\"color: #00af00; text-decoration-color: #00af00\">0</span>][<span style=\"color: #00af00; text-decoration-color: #00af00\">0</span>]   │\n",
       "├─────────────────────┼───────────────────┼────────────┼───────────────────┤\n",
       "│ Dense_1 (<span style=\"color: #0087ff; text-decoration-color: #0087ff\">Dense</span>)     │ (<span style=\"color: #00d7ff; text-decoration-color: #00d7ff\">None</span>, <span style=\"color: #00af00; text-decoration-color: #00af00\">64</span>)        │  <span style=\"color: #00af00; text-decoration-color: #00af00\">1,015,872</span> │ flatten[<span style=\"color: #00af00; text-decoration-color: #00af00\">0</span>][<span style=\"color: #00af00; text-decoration-color: #00af00\">0</span>]     │\n",
       "├─────────────────────┼───────────────────┼────────────┼───────────────────┤\n",
       "│ batch_normalizatio… │ (<span style=\"color: #00d7ff; text-decoration-color: #00d7ff\">None</span>, <span style=\"color: #00af00; text-decoration-color: #00af00\">64</span>)        │        <span style=\"color: #00af00; text-decoration-color: #00af00\">256</span> │ Dense_1[<span style=\"color: #00af00; text-decoration-color: #00af00\">0</span>][<span style=\"color: #00af00; text-decoration-color: #00af00\">0</span>]     │\n",
       "│ (<span style=\"color: #0087ff; text-decoration-color: #0087ff\">BatchNormalizatio…</span> │                   │            │                   │\n",
       "├─────────────────────┼───────────────────┼────────────┼───────────────────┤\n",
       "│ activation_4        │ (<span style=\"color: #00d7ff; text-decoration-color: #00d7ff\">None</span>, <span style=\"color: #00af00; text-decoration-color: #00af00\">64</span>)        │          <span style=\"color: #00af00; text-decoration-color: #00af00\">0</span> │ batch_normalizat… │\n",
       "│ (<span style=\"color: #0087ff; text-decoration-color: #0087ff\">Activation</span>)        │                   │            │                   │\n",
       "├─────────────────────┼───────────────────┼────────────┼───────────────────┤\n",
       "│ dropout_4 (<span style=\"color: #0087ff; text-decoration-color: #0087ff\">Dropout</span>) │ (<span style=\"color: #00d7ff; text-decoration-color: #00d7ff\">None</span>, <span style=\"color: #00af00; text-decoration-color: #00af00\">64</span>)        │          <span style=\"color: #00af00; text-decoration-color: #00af00\">0</span> │ activation_4[<span style=\"color: #00af00; text-decoration-color: #00af00\">0</span>][<span style=\"color: #00af00; text-decoration-color: #00af00\">…</span> │\n",
       "├─────────────────────┼───────────────────┼────────────┼───────────────────┤\n",
       "│ Dense_Dev (<span style=\"color: #0087ff; text-decoration-color: #0087ff\">Dense</span>)   │ (<span style=\"color: #00d7ff; text-decoration-color: #00d7ff\">None</span>, <span style=\"color: #00af00; text-decoration-color: #00af00\">1</span>)         │         <span style=\"color: #00af00; text-decoration-color: #00af00\">65</span> │ dropout_4[<span style=\"color: #00af00; text-decoration-color: #00af00\">0</span>][<span style=\"color: #00af00; text-decoration-color: #00af00\">0</span>]   │\n",
       "├─────────────────────┼───────────────────┼────────────┼───────────────────┤\n",
       "│ Dense_Hk (<span style=\"color: #0087ff; text-decoration-color: #0087ff\">Dense</span>)    │ (<span style=\"color: #00d7ff; text-decoration-color: #00d7ff\">None</span>, <span style=\"color: #00af00; text-decoration-color: #00af00\">1</span>)         │         <span style=\"color: #00af00; text-decoration-color: #00af00\">65</span> │ dropout_4[<span style=\"color: #00af00; text-decoration-color: #00af00\">0</span>][<span style=\"color: #00af00; text-decoration-color: #00af00\">0</span>]   │\n",
       "└─────────────────────┴───────────────────┴────────────┴───────────────────┘\n",
       "</pre>\n"
      ],
      "text/plain": [
       "┏━━━━━━━━━━━━━━━━━━━━━┳━━━━━━━━━━━━━━━━━━━┳━━━━━━━━━━━━┳━━━━━━━━━━━━━━━━━━━┓\n",
       "┃\u001b[1m \u001b[0m\u001b[1mLayer (type)       \u001b[0m\u001b[1m \u001b[0m┃\u001b[1m \u001b[0m\u001b[1mOutput Shape     \u001b[0m\u001b[1m \u001b[0m┃\u001b[1m \u001b[0m\u001b[1m   Param #\u001b[0m\u001b[1m \u001b[0m┃\u001b[1m \u001b[0m\u001b[1mConnected to     \u001b[0m\u001b[1m \u001b[0m┃\n",
       "┡━━━━━━━━━━━━━━━━━━━━━╇━━━━━━━━━━━━━━━━━━━╇━━━━━━━━━━━━╇━━━━━━━━━━━━━━━━━━━┩\n",
       "│ input_layer         │ (\u001b[38;5;45mNone\u001b[0m, \u001b[38;5;34m249\u001b[0m, \u001b[38;5;34m4\u001b[0m)    │          \u001b[38;5;34m0\u001b[0m │ -                 │\n",
       "│ (\u001b[38;5;33mInputLayer\u001b[0m)        │                   │            │                   │\n",
       "├─────────────────────┼───────────────────┼────────────┼───────────────────┤\n",
       "│ Conv1D_4 (\u001b[38;5;33mConv1D\u001b[0m)   │ (\u001b[38;5;45mNone\u001b[0m, \u001b[38;5;34m249\u001b[0m, \u001b[38;5;34m128\u001b[0m)  │     \u001b[38;5;34m32,896\u001b[0m │ input_layer[\u001b[38;5;34m0\u001b[0m][\u001b[38;5;34m0\u001b[0m] │\n",
       "├─────────────────────┼───────────────────┼────────────┼───────────────────┤\n",
       "│ batch_normalizatio… │ (\u001b[38;5;45mNone\u001b[0m, \u001b[38;5;34m249\u001b[0m, \u001b[38;5;34m128\u001b[0m)  │        \u001b[38;5;34m512\u001b[0m │ Conv1D_4[\u001b[38;5;34m0\u001b[0m][\u001b[38;5;34m0\u001b[0m]    │\n",
       "│ (\u001b[38;5;33mBatchNormalizatio…\u001b[0m │                   │            │                   │\n",
       "├─────────────────────┼───────────────────┼────────────┼───────────────────┤\n",
       "│ activation_3        │ (\u001b[38;5;45mNone\u001b[0m, \u001b[38;5;34m249\u001b[0m, \u001b[38;5;34m128\u001b[0m)  │          \u001b[38;5;34m0\u001b[0m │ batch_normalizat… │\n",
       "│ (\u001b[38;5;33mActivation\u001b[0m)        │                   │            │                   │\n",
       "├─────────────────────┼───────────────────┼────────────┼───────────────────┤\n",
       "│ max_pooling1d_3     │ (\u001b[38;5;45mNone\u001b[0m, \u001b[38;5;34m124\u001b[0m, \u001b[38;5;34m128\u001b[0m)  │          \u001b[38;5;34m0\u001b[0m │ activation_3[\u001b[38;5;34m0\u001b[0m][\u001b[38;5;34m…\u001b[0m │\n",
       "│ (\u001b[38;5;33mMaxPooling1D\u001b[0m)      │                   │            │                   │\n",
       "├─────────────────────┼───────────────────┼────────────┼───────────────────┤\n",
       "│ dropout_3 (\u001b[38;5;33mDropout\u001b[0m) │ (\u001b[38;5;45mNone\u001b[0m, \u001b[38;5;34m124\u001b[0m, \u001b[38;5;34m128\u001b[0m)  │          \u001b[38;5;34m0\u001b[0m │ max_pooling1d_3[\u001b[38;5;34m…\u001b[0m │\n",
       "├─────────────────────┼───────────────────┼────────────┼───────────────────┤\n",
       "│ flatten (\u001b[38;5;33mFlatten\u001b[0m)   │ (\u001b[38;5;45mNone\u001b[0m, \u001b[38;5;34m15872\u001b[0m)     │          \u001b[38;5;34m0\u001b[0m │ dropout_3[\u001b[38;5;34m0\u001b[0m][\u001b[38;5;34m0\u001b[0m]   │\n",
       "├─────────────────────┼───────────────────┼────────────┼───────────────────┤\n",
       "│ Dense_1 (\u001b[38;5;33mDense\u001b[0m)     │ (\u001b[38;5;45mNone\u001b[0m, \u001b[38;5;34m64\u001b[0m)        │  \u001b[38;5;34m1,015,872\u001b[0m │ flatten[\u001b[38;5;34m0\u001b[0m][\u001b[38;5;34m0\u001b[0m]     │\n",
       "├─────────────────────┼───────────────────┼────────────┼───────────────────┤\n",
       "│ batch_normalizatio… │ (\u001b[38;5;45mNone\u001b[0m, \u001b[38;5;34m64\u001b[0m)        │        \u001b[38;5;34m256\u001b[0m │ Dense_1[\u001b[38;5;34m0\u001b[0m][\u001b[38;5;34m0\u001b[0m]     │\n",
       "│ (\u001b[38;5;33mBatchNormalizatio…\u001b[0m │                   │            │                   │\n",
       "├─────────────────────┼───────────────────┼────────────┼───────────────────┤\n",
       "│ activation_4        │ (\u001b[38;5;45mNone\u001b[0m, \u001b[38;5;34m64\u001b[0m)        │          \u001b[38;5;34m0\u001b[0m │ batch_normalizat… │\n",
       "│ (\u001b[38;5;33mActivation\u001b[0m)        │                   │            │                   │\n",
       "├─────────────────────┼───────────────────┼────────────┼───────────────────┤\n",
       "│ dropout_4 (\u001b[38;5;33mDropout\u001b[0m) │ (\u001b[38;5;45mNone\u001b[0m, \u001b[38;5;34m64\u001b[0m)        │          \u001b[38;5;34m0\u001b[0m │ activation_4[\u001b[38;5;34m0\u001b[0m][\u001b[38;5;34m…\u001b[0m │\n",
       "├─────────────────────┼───────────────────┼────────────┼───────────────────┤\n",
       "│ Dense_Dev (\u001b[38;5;33mDense\u001b[0m)   │ (\u001b[38;5;45mNone\u001b[0m, \u001b[38;5;34m1\u001b[0m)         │         \u001b[38;5;34m65\u001b[0m │ dropout_4[\u001b[38;5;34m0\u001b[0m][\u001b[38;5;34m0\u001b[0m]   │\n",
       "├─────────────────────┼───────────────────┼────────────┼───────────────────┤\n",
       "│ Dense_Hk (\u001b[38;5;33mDense\u001b[0m)    │ (\u001b[38;5;45mNone\u001b[0m, \u001b[38;5;34m1\u001b[0m)         │         \u001b[38;5;34m65\u001b[0m │ dropout_4[\u001b[38;5;34m0\u001b[0m][\u001b[38;5;34m0\u001b[0m]   │\n",
       "└─────────────────────┴───────────────────┴────────────┴───────────────────┘\n"
      ]
     },
     "metadata": {},
     "output_type": "display_data"
    },
    {
     "data": {
      "text/html": [
       "<pre style=\"white-space:pre;overflow-x:auto;line-height:normal;font-family:Menlo,'DejaVu Sans Mono',consolas,'Courier New',monospace\"><span style=\"font-weight: bold\"> Total params: </span><span style=\"color: #00af00; text-decoration-color: #00af00\">1,049,666</span> (4.00 MB)\n",
       "</pre>\n"
      ],
      "text/plain": [
       "\u001b[1m Total params: \u001b[0m\u001b[38;5;34m1,049,666\u001b[0m (4.00 MB)\n"
      ]
     },
     "metadata": {},
     "output_type": "display_data"
    },
    {
     "data": {
      "text/html": [
       "<pre style=\"white-space:pre;overflow-x:auto;line-height:normal;font-family:Menlo,'DejaVu Sans Mono',consolas,'Courier New',monospace\"><span style=\"font-weight: bold\"> Trainable params: </span><span style=\"color: #00af00; text-decoration-color: #00af00\">1,049,282</span> (4.00 MB)\n",
       "</pre>\n"
      ],
      "text/plain": [
       "\u001b[1m Trainable params: \u001b[0m\u001b[38;5;34m1,049,282\u001b[0m (4.00 MB)\n"
      ]
     },
     "metadata": {},
     "output_type": "display_data"
    },
    {
     "data": {
      "text/html": [
       "<pre style=\"white-space:pre;overflow-x:auto;line-height:normal;font-family:Menlo,'DejaVu Sans Mono',consolas,'Courier New',monospace\"><span style=\"font-weight: bold\"> Non-trainable params: </span><span style=\"color: #00af00; text-decoration-color: #00af00\">384</span> (1.50 KB)\n",
       "</pre>\n"
      ],
      "text/plain": [
       "\u001b[1m Non-trainable params: \u001b[0m\u001b[38;5;34m384\u001b[0m (1.50 KB)\n"
      ]
     },
     "metadata": {},
     "output_type": "display_data"
    },
    {
     "name": "stdout",
     "output_type": "stream",
     "text": [
      "Epoch 1/100\n"
     ]
    },
    {
     "name": "stderr",
     "output_type": "stream",
     "text": [
      "/opt/conda/lib/python3.11/site-packages/keras/src/models/functional.py:225: UserWarning: The structure of `inputs` doesn't match the expected structure: ['keras_tensor_56']. Received: the structure of inputs=*\n",
      "  warnings.warn(\n",
      "WARNING: All log messages before absl::InitializeLog() is called are written to STDERR\n",
      "I0000 00:00:1733620895.054675 2342009 service.cc:146] XLA service 0x7f41e8011d50 initialized for platform CUDA (this does not guarantee that XLA will be used). Devices:\n",
      "I0000 00:00:1733620895.054743 2342009 service.cc:154]   StreamExecutor device (0): NVIDIA RTX 5000 Ada Generation, Compute Capability 8.9\n",
      "2024-12-07 20:21:35.223350: I tensorflow/compiler/mlir/tensorflow/utils/dump_mlir_util.cc:268] disabling MLIR crash reproducer, set env var `MLIR_CRASH_REPRODUCER_DIRECTORY` to enable.\n",
      "2024-12-07 20:21:35.905596: I external/local_xla/xla/stream_executor/cuda/cuda_dnn.cc:531] Loaded cuDNN version 8907\n"
     ]
    },
    {
     "name": "stdout",
     "output_type": "stream",
     "text": [
      "\u001b[1m  85/6286\u001b[0m \u001b[37m━━━━━━━━━━━━━━━━━━━━\u001b[0m \u001b[1m11s\u001b[0m 2ms/step - Dense_Dev_loss: 3.3706 - Dense_Hk_loss: 5.1625 - loss: 8.5331 "
     ]
    },
    {
     "name": "stderr",
     "output_type": "stream",
     "text": [
      "I0000 00:00:1733620906.283984 2342009 device_compiler.h:188] Compiled cluster using XLA!  This line is logged at most once for the lifetime of the process.\n"
     ]
    },
    {
     "name": "stdout",
     "output_type": "stream",
     "text": [
      "\u001b[1m6286/6286\u001b[0m \u001b[32m━━━━━━━━━━━━━━━━━━━━\u001b[0m\u001b[37m\u001b[0m \u001b[1m0s\u001b[0m 2ms/step - Dense_Dev_loss: 2.2568 - Dense_Hk_loss: 2.7343 - loss: 4.9911"
     ]
    },
    {
     "name": "stderr",
     "output_type": "stream",
     "text": [
      "/opt/conda/lib/python3.11/site-packages/keras/src/models/functional.py:225: UserWarning: The structure of `inputs` doesn't match the expected structure: ['keras_tensor_56']. Received: the structure of inputs=*\n",
      "  warnings.warn(\n"
     ]
    },
    {
     "name": "stdout",
     "output_type": "stream",
     "text": [
      "\u001b[1m6286/6286\u001b[0m \u001b[32m━━━━━━━━━━━━━━━━━━━━\u001b[0m\u001b[37m\u001b[0m \u001b[1m27s\u001b[0m 2ms/step - Dense_Dev_loss: 2.2567 - Dense_Hk_loss: 2.7343 - loss: 4.9910 - val_Dense_Dev_loss: 1.9490 - val_Dense_Hk_loss: 2.3270 - val_loss: 4.2763\n",
      "Epoch 2/100\n",
      "\u001b[1m6286/6286\u001b[0m \u001b[32m━━━━━━━━━━━━━━━━━━━━\u001b[0m\u001b[37m\u001b[0m \u001b[1m10s\u001b[0m 2ms/step - Dense_Dev_loss: 1.9694 - Dense_Hk_loss: 2.2271 - loss: 4.1965 - val_Dense_Dev_loss: 1.8985 - val_Dense_Hk_loss: 2.1791 - val_loss: 4.0779\n",
      "Epoch 3/100\n",
      "\u001b[1m6286/6286\u001b[0m \u001b[32m━━━━━━━━━━━━━━━━━━━━\u001b[0m\u001b[37m\u001b[0m \u001b[1m11s\u001b[0m 2ms/step - Dense_Dev_loss: 1.9135 - Dense_Hk_loss: 2.0725 - loss: 3.9860 - val_Dense_Dev_loss: 1.9005 - val_Dense_Hk_loss: 2.1192 - val_loss: 4.0200\n",
      "Epoch 4/100\n",
      "\u001b[1m6286/6286\u001b[0m \u001b[32m━━━━━━━━━━━━━━━━━━━━\u001b[0m\u001b[37m\u001b[0m \u001b[1m11s\u001b[0m 2ms/step - Dense_Dev_loss: 1.8835 - Dense_Hk_loss: 1.9543 - loss: 3.8379 - val_Dense_Dev_loss: 1.8483 - val_Dense_Hk_loss: 2.0088 - val_loss: 3.8573\n",
      "Epoch 5/100\n",
      "\u001b[1m6286/6286\u001b[0m \u001b[32m━━━━━━━━━━━━━━━━━━━━\u001b[0m\u001b[37m\u001b[0m \u001b[1m11s\u001b[0m 2ms/step - Dense_Dev_loss: 1.8464 - Dense_Hk_loss: 1.8658 - loss: 3.7122 - val_Dense_Dev_loss: 1.8320 - val_Dense_Hk_loss: 1.9325 - val_loss: 3.7647\n",
      "Epoch 6/100\n",
      "\u001b[1m6286/6286\u001b[0m \u001b[32m━━━━━━━━━━━━━━━━━━━━\u001b[0m\u001b[37m\u001b[0m \u001b[1m21s\u001b[0m 2ms/step - Dense_Dev_loss: 1.8265 - Dense_Hk_loss: 1.7837 - loss: 3.6102 - val_Dense_Dev_loss: 1.8201 - val_Dense_Hk_loss: 1.8996 - val_loss: 3.7200\n",
      "Epoch 7/100\n",
      "\u001b[1m6286/6286\u001b[0m \u001b[32m━━━━━━━━━━━━━━━━━━━━\u001b[0m\u001b[37m\u001b[0m \u001b[1m20s\u001b[0m 2ms/step - Dense_Dev_loss: 1.7975 - Dense_Hk_loss: 1.7414 - loss: 3.5389 - val_Dense_Dev_loss: 1.8018 - val_Dense_Hk_loss: 1.8621 - val_loss: 3.6642\n",
      "Epoch 8/100\n",
      "\u001b[1m6286/6286\u001b[0m \u001b[32m━━━━━━━━━━━━━━━━━━━━\u001b[0m\u001b[37m\u001b[0m \u001b[1m10s\u001b[0m 2ms/step - Dense_Dev_loss: 1.7753 - Dense_Hk_loss: 1.7019 - loss: 3.4771 - val_Dense_Dev_loss: 1.8000 - val_Dense_Hk_loss: 1.8221 - val_loss: 3.6223\n",
      "Epoch 9/100\n",
      "\u001b[1m6286/6286\u001b[0m \u001b[32m━━━━━━━━━━━━━━━━━━━━\u001b[0m\u001b[37m\u001b[0m \u001b[1m10s\u001b[0m 2ms/step - Dense_Dev_loss: 1.7622 - Dense_Hk_loss: 1.6539 - loss: 3.4161 - val_Dense_Dev_loss: 1.7819 - val_Dense_Hk_loss: 1.8404 - val_loss: 3.6225\n",
      "Epoch 10/100\n",
      "\u001b[1m6286/6286\u001b[0m \u001b[32m━━━━━━━━━━━━━━━━━━━━\u001b[0m\u001b[37m\u001b[0m \u001b[1m10s\u001b[0m 2ms/step - Dense_Dev_loss: 1.7335 - Dense_Hk_loss: 1.6259 - loss: 3.3595 - val_Dense_Dev_loss: 1.7822 - val_Dense_Hk_loss: 1.7928 - val_loss: 3.5752\n",
      "Epoch 11/100\n",
      "\u001b[1m6286/6286\u001b[0m \u001b[32m━━━━━━━━━━━━━━━━━━━━\u001b[0m\u001b[37m\u001b[0m \u001b[1m22s\u001b[0m 2ms/step - Dense_Dev_loss: 1.7267 - Dense_Hk_loss: 1.6243 - loss: 3.3510 - val_Dense_Dev_loss: 1.7670 - val_Dense_Hk_loss: 1.7708 - val_loss: 3.5379\n",
      "Epoch 12/100\n",
      "\u001b[1m6286/6286\u001b[0m \u001b[32m━━━━━━━━━━━━━━━━━━━━\u001b[0m\u001b[37m\u001b[0m \u001b[1m20s\u001b[0m 2ms/step - Dense_Dev_loss: 1.7061 - Dense_Hk_loss: 1.5945 - loss: 3.3006 - val_Dense_Dev_loss: 1.7626 - val_Dense_Hk_loss: 1.7611 - val_loss: 3.5238\n",
      "Epoch 13/100\n",
      "\u001b[1m6286/6286\u001b[0m \u001b[32m━━━━━━━━━━━━━━━━━━━━\u001b[0m\u001b[37m\u001b[0m \u001b[1m20s\u001b[0m 2ms/step - Dense_Dev_loss: 1.6905 - Dense_Hk_loss: 1.5746 - loss: 3.2651 - val_Dense_Dev_loss: 1.7388 - val_Dense_Hk_loss: 1.7583 - val_loss: 3.4973\n",
      "Epoch 14/100\n",
      "\u001b[1m6286/6286\u001b[0m \u001b[32m━━━━━━━━━━━━━━━━━━━━\u001b[0m\u001b[37m\u001b[0m \u001b[1m19s\u001b[0m 2ms/step - Dense_Dev_loss: 1.6786 - Dense_Hk_loss: 1.5675 - loss: 3.2461 - val_Dense_Dev_loss: 1.7334 - val_Dense_Hk_loss: 1.7644 - val_loss: 3.4980\n",
      "Epoch 15/100\n",
      "\u001b[1m6286/6286\u001b[0m \u001b[32m━━━━━━━━━━━━━━━━━━━━\u001b[0m\u001b[37m\u001b[0m \u001b[1m20s\u001b[0m 2ms/step - Dense_Dev_loss: 1.6633 - Dense_Hk_loss: 1.5432 - loss: 3.2065 - val_Dense_Dev_loss: 1.7306 - val_Dense_Hk_loss: 1.7659 - val_loss: 3.4967\n",
      "Epoch 16/100\n",
      "\u001b[1m6286/6286\u001b[0m \u001b[32m━━━━━━━━━━━━━━━━━━━━\u001b[0m\u001b[37m\u001b[0m \u001b[1m10s\u001b[0m 2ms/step - Dense_Dev_loss: 1.6515 - Dense_Hk_loss: 1.5441 - loss: 3.1956 - val_Dense_Dev_loss: 1.7224 - val_Dense_Hk_loss: 1.7499 - val_loss: 3.4724\n",
      "Epoch 17/100\n",
      "\u001b[1m6286/6286\u001b[0m \u001b[32m━━━━━━━━━━━━━━━━━━━━\u001b[0m\u001b[37m\u001b[0m \u001b[1m20s\u001b[0m 2ms/step - Dense_Dev_loss: 1.6416 - Dense_Hk_loss: 1.5180 - loss: 3.1596 - val_Dense_Dev_loss: 1.7170 - val_Dense_Hk_loss: 1.7352 - val_loss: 3.4524\n",
      "Epoch 18/100\n",
      "\u001b[1m6286/6286\u001b[0m \u001b[32m━━━━━━━━━━━━━━━━━━━━\u001b[0m\u001b[37m\u001b[0m \u001b[1m10s\u001b[0m 1ms/step - Dense_Dev_loss: 1.6193 - Dense_Hk_loss: 1.5182 - loss: 3.1376 - val_Dense_Dev_loss: 1.7196 - val_Dense_Hk_loss: 1.7590 - val_loss: 3.4788\n",
      "Epoch 19/100\n",
      "\u001b[1m6286/6286\u001b[0m \u001b[32m━━━━━━━━━━━━━━━━━━━━\u001b[0m\u001b[37m\u001b[0m \u001b[1m10s\u001b[0m 2ms/step - Dense_Dev_loss: 1.6142 - Dense_Hk_loss: 1.5123 - loss: 3.1266 - val_Dense_Dev_loss: 1.7140 - val_Dense_Hk_loss: 1.7650 - val_loss: 3.4792\n",
      "Epoch 20/100\n",
      "\u001b[1m6286/6286\u001b[0m \u001b[32m━━━━━━━━━━━━━━━━━━━━\u001b[0m\u001b[37m\u001b[0m \u001b[1m10s\u001b[0m 2ms/step - Dense_Dev_loss: 1.6013 - Dense_Hk_loss: 1.5042 - loss: 3.1055 - val_Dense_Dev_loss: 1.7093 - val_Dense_Hk_loss: 1.7575 - val_loss: 3.4670\n",
      "Epoch 21/100\n",
      "\u001b[1m6286/6286\u001b[0m \u001b[32m━━━━━━━━━━━━━━━━━━━━\u001b[0m\u001b[37m\u001b[0m \u001b[1m22s\u001b[0m 2ms/step - Dense_Dev_loss: 1.5938 - Dense_Hk_loss: 1.4890 - loss: 3.0828 - val_Dense_Dev_loss: 1.6985 - val_Dense_Hk_loss: 1.7140 - val_loss: 3.4127\n",
      "Epoch 22/100\n",
      "\u001b[1m6286/6286\u001b[0m \u001b[32m━━━━━━━━━━━━━━━━━━━━\u001b[0m\u001b[37m\u001b[0m \u001b[1m9s\u001b[0m 1ms/step - Dense_Dev_loss: 1.5940 - Dense_Hk_loss: 1.4727 - loss: 3.0667 - val_Dense_Dev_loss: 1.7083 - val_Dense_Hk_loss: 1.7183 - val_loss: 3.4268\n",
      "Epoch 23/100\n",
      "\u001b[1m6286/6286\u001b[0m \u001b[32m━━━━━━━━━━━━━━━━━━━━\u001b[0m\u001b[37m\u001b[0m \u001b[1m11s\u001b[0m 2ms/step - Dense_Dev_loss: 1.5922 - Dense_Hk_loss: 1.4842 - loss: 3.0765 - val_Dense_Dev_loss: 1.7091 - val_Dense_Hk_loss: 1.7981 - val_loss: 3.5074\n",
      "Epoch 24/100\n",
      "\u001b[1m6286/6286\u001b[0m \u001b[32m━━━━━━━━━━━━━━━━━━━━\u001b[0m\u001b[37m\u001b[0m \u001b[1m11s\u001b[0m 2ms/step - Dense_Dev_loss: 1.5810 - Dense_Hk_loss: 1.4736 - loss: 3.0545 - val_Dense_Dev_loss: 1.6856 - val_Dense_Hk_loss: 1.7362 - val_loss: 3.4220\n",
      "Epoch 25/100\n",
      "\u001b[1m6286/6286\u001b[0m \u001b[32m━━━━━━━━━━━━━━━━━━━━\u001b[0m\u001b[37m\u001b[0m \u001b[1m19s\u001b[0m 1ms/step - Dense_Dev_loss: 1.5786 - Dense_Hk_loss: 1.4584 - loss: 3.0370 - val_Dense_Dev_loss: 1.6928 - val_Dense_Hk_loss: 1.7152 - val_loss: 3.4082\n",
      "Epoch 26/100\n",
      "\u001b[1m6286/6286\u001b[0m \u001b[32m━━━━━━━━━━━━━━━━━━━━\u001b[0m\u001b[37m\u001b[0m \u001b[1m11s\u001b[0m 1ms/step - Dense_Dev_loss: 1.5768 - Dense_Hk_loss: 1.4574 - loss: 3.0342 - val_Dense_Dev_loss: 1.6963 - val_Dense_Hk_loss: 1.7105 - val_loss: 3.4070\n",
      "Epoch 27/100\n",
      "\u001b[1m6286/6286\u001b[0m \u001b[32m━━━━━━━━━━━━━━━━━━━━\u001b[0m\u001b[37m\u001b[0m \u001b[1m11s\u001b[0m 2ms/step - Dense_Dev_loss: 1.5731 - Dense_Hk_loss: 1.4521 - loss: 3.0251 - val_Dense_Dev_loss: 1.6972 - val_Dense_Hk_loss: 1.7453 - val_loss: 3.4427\n",
      "Epoch 28/100\n",
      "\u001b[1m6286/6286\u001b[0m \u001b[32m━━━━━━━━━━━━━━━━━━━━\u001b[0m\u001b[37m\u001b[0m \u001b[1m10s\u001b[0m 2ms/step - Dense_Dev_loss: 1.5647 - Dense_Hk_loss: 1.4439 - loss: 3.0086 - val_Dense_Dev_loss: 1.6985 - val_Dense_Hk_loss: 1.7527 - val_loss: 3.4514\n",
      "Epoch 29/100\n",
      "\u001b[1m6286/6286\u001b[0m \u001b[32m━━━━━━━━━━━━━━━━━━━━\u001b[0m\u001b[37m\u001b[0m \u001b[1m11s\u001b[0m 2ms/step - Dense_Dev_loss: 1.5538 - Dense_Hk_loss: 1.4424 - loss: 2.9962 - val_Dense_Dev_loss: 1.7038 - val_Dense_Hk_loss: 1.7177 - val_loss: 3.4216\n",
      "Epoch 30/100\n",
      "\u001b[1m6286/6286\u001b[0m \u001b[32m━━━━━━━━━━━━━━━━━━━━\u001b[0m\u001b[37m\u001b[0m \u001b[1m10s\u001b[0m 2ms/step - Dense_Dev_loss: 1.5495 - Dense_Hk_loss: 1.4403 - loss: 2.9898 - val_Dense_Dev_loss: 1.7058 - val_Dense_Hk_loss: 1.7479 - val_loss: 3.4539\n",
      "Epoch 31/100\n",
      "\u001b[1m6286/6286\u001b[0m \u001b[32m━━━━━━━━━━━━━━━━━━━━\u001b[0m\u001b[37m\u001b[0m \u001b[1m10s\u001b[0m 2ms/step - Dense_Dev_loss: 1.5415 - Dense_Hk_loss: 1.4226 - loss: 2.9641 - val_Dense_Dev_loss: 1.6850 - val_Dense_Hk_loss: 1.7250 - val_loss: 3.4101\n",
      "Epoch 32/100\n",
      "\u001b[1m6286/6286\u001b[0m \u001b[32m━━━━━━━━━━━━━━━━━━━━\u001b[0m\u001b[37m\u001b[0m \u001b[1m9s\u001b[0m 2ms/step - Dense_Dev_loss: 1.5378 - Dense_Hk_loss: 1.4232 - loss: 2.9610 - val_Dense_Dev_loss: 1.6983 - val_Dense_Hk_loss: 1.7589 - val_loss: 3.4574\n",
      "Epoch 33/100\n",
      "\u001b[1m6286/6286\u001b[0m \u001b[32m━━━━━━━━━━━━━━━━━━━━\u001b[0m\u001b[37m\u001b[0m \u001b[1m12s\u001b[0m 2ms/step - Dense_Dev_loss: 1.5395 - Dense_Hk_loss: 1.4270 - loss: 2.9665 - val_Dense_Dev_loss: 1.7046 - val_Dense_Hk_loss: 1.7915 - val_loss: 3.4963\n",
      "Epoch 34/100\n",
      "\u001b[1m6286/6286\u001b[0m \u001b[32m━━━━━━━━━━━━━━━━━━━━\u001b[0m\u001b[37m\u001b[0m \u001b[1m19s\u001b[0m 2ms/step - Dense_Dev_loss: 1.5363 - Dense_Hk_loss: 1.4261 - loss: 2.9624 - val_Dense_Dev_loss: 1.6989 - val_Dense_Hk_loss: 1.7242 - val_loss: 3.4232\n",
      "Epoch 35/100\n",
      "\u001b[1m6286/6286\u001b[0m \u001b[32m━━━━━━━━━━━━━━━━━━━━\u001b[0m\u001b[37m\u001b[0m \u001b[1m21s\u001b[0m 2ms/step - Dense_Dev_loss: 1.5271 - Dense_Hk_loss: 1.4181 - loss: 2.9452 - val_Dense_Dev_loss: 1.6901 - val_Dense_Hk_loss: 1.7253 - val_loss: 3.4156\n",
      "Epoch 36/100\n",
      "\u001b[1m6286/6286\u001b[0m \u001b[32m━━━━━━━━━━━━━━━━━━━━\u001b[0m\u001b[37m\u001b[0m \u001b[1m10s\u001b[0m 2ms/step - Dense_Dev_loss: 1.5261 - Dense_Hk_loss: 1.4143 - loss: 2.9404 - val_Dense_Dev_loss: 1.6900 - val_Dense_Hk_loss: 1.7229 - val_loss: 3.4131\n",
      "Total training time: 9.38 minutes\n",
      "\u001b[1m6286/6286\u001b[0m \u001b[32m━━━━━━━━━━━━━━━━━━━━\u001b[0m\u001b[37m\u001b[0m \u001b[1m8s\u001b[0m 1ms/step\n",
      "train MSE Dev = 1.35\n",
      "train PCC Dev = 0.67\n",
      "train SCC Dev = 0.64\n",
      "\u001b[1m634/634\u001b[0m \u001b[32m━━━━━━━━━━━━━━━━━━━━\u001b[0m\u001b[37m\u001b[0m \u001b[1m1s\u001b[0m 2ms/step\n",
      "validation MSE Dev = 1.70\n",
      "validation PCC Dev = 0.52\n",
      "validation SCC Dev = 0.50\n",
      "\u001b[1m644/644\u001b[0m \u001b[32m━━━━━━━━━━━━━━━━━━━━\u001b[0m\u001b[37m\u001b[0m \u001b[1m1s\u001b[0m 2ms/step\n",
      "test MSE Dev = 1.72\n",
      "test PCC Dev = 0.52\n",
      "test SCC Dev = 0.51\n",
      "\u001b[1m6286/6286\u001b[0m \u001b[32m━━━━━━━━━━━━━━━━━━━━\u001b[0m\u001b[37m\u001b[0m \u001b[1m7s\u001b[0m 1ms/step\n",
      "train MSE Hk = 1.12\n",
      "train PCC Hk = 0.78\n",
      "train SCC Hk = 0.64\n",
      "\u001b[1m634/634\u001b[0m \u001b[32m━━━━━━━━━━━━━━━━━━━━\u001b[0m\u001b[37m\u001b[0m \u001b[1m1s\u001b[0m 2ms/step\n",
      "validation MSE Hk = 1.71\n",
      "validation PCC Hk = 0.64\n",
      "validation SCC Hk = 0.50\n",
      "\u001b[1m644/644\u001b[0m \u001b[32m━━━━━━━━━━━━━━━━━━━━\u001b[0m\u001b[37m\u001b[0m \u001b[1m1s\u001b[0m 1ms/step\n",
      "test MSE Hk = 1.70\n",
      "test PCC Hk = 0.65\n",
      "test SCC Hk = 0.49\n",
      "\u001b[1m644/644\u001b[0m \u001b[32m━━━━━━━━━━━━━━━━━━━━\u001b[0m\u001b[37m\u001b[0m \u001b[1m1s\u001b[0m 1ms/step\n"
     ]
    },
    {
     "name": "stderr",
     "output_type": "stream",
     "text": [
      "/tmp/ipykernel_2341958/1480100958.py:21: UserWarning: color is redundantly defined by the 'color' keyword argument and the fmt string \"w\" (-> color=(1.0, 1.0, 1.0, 1)). The keyword argument will take precedence.\n",
      "  g.ax_joint.plot(lims, lims, 'w', linestyle='dashed', transform=g.ax_joint.transData, color='grey')\n"
     ]
    },
    {
     "data": {
      "image/png": "[encoded data removed]",
      "text/plain": [
       "<Figure size 600x600 with 1 Axes>"
      ]
     },
     "metadata": {},
     "output_type": "display_data"
    },
    {
     "name": "stdout",
     "output_type": "stream",
     "text": [
      "\u001b[1m644/644\u001b[0m \u001b[32m━━━━━━━━━━━━━━━━━━━━\u001b[0m\u001b[37m\u001b[0m \u001b[1m1s\u001b[0m 1ms/step\n"
     ]
    },
    {
     "name": "stderr",
     "output_type": "stream",
     "text": [
      "/tmp/ipykernel_2341958/1480100958.py:21: UserWarning: color is redundantly defined by the 'color' keyword argument and the fmt string \"w\" (-> color=(1.0, 1.0, 1.0, 1)). The keyword argument will take precedence.\n",
      "  g.ax_joint.plot(lims, lims, 'w', linestyle='dashed', transform=g.ax_joint.transData, color='grey')\n"
     ]
    },
    {
     "data": {
      "image/png": "[encoded data removed]",
      "text/plain": [
       "<Figure size 600x600 with 1 Axes>"
      ]
     },
     "metadata": {},
     "output_type": "display_data"
    },
    {
     "name": "stderr",
     "output_type": "stream",
     "text": [
      "WARNING:absl:You are saving your model as an HDF5 file via `model.save()` or `keras.saving.save_model(model)`. This file format is considered legacy. We recommend using instead the native Keras format, e.g. `model.save('my_model.keras')` or `keras.saving.save_model(model, 'my_model.keras')`. \n"
     ]
    }
   ],
   "source": [
    "# model architecture of optimal model\n",
    "main('/hpc/home/yc583/Biostat-823/Final_Project/config/config-conv-117.json',\n",
    "     '/hpc/home/yc583/Biostat-823/Final_Project/data/Sequences_activity_all.txt', \n",
    "     '/hpc/home/yc583/Biostat-823/Final_Project/saved_models',\n",
    "     'conv-117')"
   ]
  },
  {
   "cell_type": "code",
   "execution_count": null,
   "id": "8c53c25b-cfa1-4088-9527-44f8f7adc750",
   "metadata": {},
   "outputs": [],
   "source": []
  },
  {
   "cell_type": "code",
   "execution_count": null,
   "id": "5c58a8e4-1747-4434-b779-c81f9fd1df3e",
   "metadata": {},
   "outputs": [],
   "source": []
  }
 ],
 "metadata": {
  "kernelspec": {
   "display_name": "Python 3 (ipykernel)",
   "language": "python",
   "name": "python3"
  },
  "language_info": {
   "codemirror_mode": {
    "name": "ipython",
    "version": 3
   },
   "file_extension": ".py",
   "mimetype": "text/x-python",
   "name": "python",
   "nbconvert_exporter": "python",
   "pygments_lexer": "ipython3",
   "version": "3.11.10"
  }
 },
 "nbformat": 4,
 "nbformat_minor": 5
}
