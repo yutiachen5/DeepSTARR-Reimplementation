{
 "cells": [
  {
   "cell_type": "code",
   "execution_count": 1,
   "id": "660d164a-dfcf-4482-a866-809f0cb30bda",
   "metadata": {},
   "outputs": [],
   "source": [
    "# calculate receptive field size for deepstarr\n",
    "from collections import namedtuple"
   ]
  },
  {
   "cell_type": "code",
   "execution_count": 2,
   "id": "1c40507a-caac-41e8-a3bf-4b4f956fc288",
   "metadata": {},
   "outputs": [],
   "source": [
    "def compute_receptive_field(layers):\n",
    "    total_stride = 1\n",
    "    receptive_field = 1\n",
    "    for layer in layers:\n",
    "        dilation = layer[1] if len(layer) > 1 else 1\n",
    "        kernel_size = dilation * (layer[0] - 1) + 1\n",
    "        receptive_field = total_stride * receptive_field + (kernel_size - total_stride)\n",
    "        total_stride = layer[2]  \n",
    "    return receptive_field\n"
   ]
  },
  {
   "cell_type": "code",
   "execution_count": 3,
   "id": "bd2378c8-3373-4d03-b5f8-94935bf98cd3",
   "metadata": {},
   "outputs": [],
   "source": [
    "layers = [\n",
    "    (7, 1, 1),  # (kernel_size, dilation, stride)\n",
    "    (3, 1, 1),\n",
    "    (5, 1, 1),\n",
    "    (3, 1, 1)\n",
    "]"
   ]
  },
  {
   "cell_type": "code",
   "execution_count": 4,
   "id": "e43a2cbc-c8cc-47ac-a750-740d914e0433",
   "metadata": {},
   "outputs": [
    {
     "data": {
      "text/plain": [
       "15"
      ]
     },
     "execution_count": 4,
     "metadata": {},
     "output_type": "execute_result"
    }
   ],
   "source": [
    "compute_receptive_field(layers)"
   ]
  },
  {
   "cell_type": "code",
   "execution_count": 5,
   "id": "4f464fcc-f9cc-4895-b17a-05e08642b314",
   "metadata": {},
   "outputs": [],
   "source": [
    "layers = [\n",
    "    (8, 1, 1),  # (kernel_size, dilation, stride)\n",
    "    (16, 1, 1),\n",
    "    (32, 1, 1),\n",
    "    (64, 1, 1)\n",
    "]"
   ]
  },
  {
   "cell_type": "code",
   "execution_count": 6,
   "id": "a7253451-3046-45de-a086-946573e42f0b",
   "metadata": {},
   "outputs": [
    {
     "data": {
      "text/plain": [
       "117"
      ]
     },
     "execution_count": 6,
     "metadata": {},
     "output_type": "execute_result"
    }
   ],
   "source": [
    "compute_receptive_field(layers)"
   ]
  },
  {
   "cell_type": "code",
   "execution_count": 7,
   "id": "65f9b969-ed97-49df-9a38-299cd767b742",
   "metadata": {},
   "outputs": [],
   "source": [
    "layers = [\n",
    "    (8, 1, 1),  # (kernel_size, dilation, stride)\n",
    "    (16, 1, 1),\n",
    "    (32, 1, 1),\n",
    "    (64, 1, 1),\n",
    "    (128, 1, 1)\n",
    "]"
   ]
  },
  {
   "cell_type": "code",
   "execution_count": 8,
   "id": "7d003010-70d1-40d5-a011-c01f0d34c2b2",
   "metadata": {},
   "outputs": [
    {
     "data": {
      "text/plain": [
       "244"
      ]
     },
     "execution_count": 8,
     "metadata": {},
     "output_type": "execute_result"
    }
   ],
   "source": [
    "compute_receptive_field(layers)"
   ]
  }
 ],
 "metadata": {
  "kernelspec": {
   "display_name": "Python 3 (ipykernel)",
   "language": "python",
   "name": "python3"
  },
  "language_info": {
   "codemirror_mode": {
    "name": "ipython",
    "version": 3
   },
   "file_extension": ".py",
   "mimetype": "text/x-python",
   "name": "python",
   "nbconvert_exporter": "python",
   "pygments_lexer": "ipython3",
   "version": "3.11.10"
  }
 },
 "nbformat": 4,
 "nbformat_minor": 5
}
