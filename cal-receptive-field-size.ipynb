{
 "cells": [
  {
   "cell_type": "code",
   "execution_count": 3,
   "id": "660d164a-dfcf-4482-a866-809f0cb30bda",
   "metadata": {},
   "outputs": [],
   "source": [
    "# calculate receptive field size for deepstarr\n",
    "# adapted from https://gitlab.oit.duke.edu/igvf/bluestarr-viz/-/blob/main/preds/receptive-field.ipynb?ref_type=heads\n",
    "from collections import namedtuple"
   ]
  },
  {
   "cell_type": "code",
   "execution_count": 4,
   "id": "bb09f307-003b-41c2-9d15-0aedbf41b39a",
   "metadata": {},
   "outputs": [],
   "source": [
    "convlayer = namedtuple('convlayer', [\"kernelSize\",\"dilation\",\"stride\"])"
   ]
  },
  {
   "cell_type": "code",
   "execution_count": 5,
   "id": "55812646-d893-4a31-9053-1b8cee322d93",
   "metadata": {},
   "outputs": [],
   "source": [
    " layers = [convlayer(kernelSize=7, dilation=1, stride=1),\n",
    " convlayer(kernelSize=3, dilation=1, stride=1),\n",
    " convlayer(kernelSize=5, dilation=1, stride=1),\n",
    " convlayer(kernelSize=3, dilation=1, stride=1)]"
   ]
  },
  {
   "cell_type": "code",
   "execution_count": 6,
   "id": "dc36865e-d773-4ede-bed7-6af72e6a3eef",
   "metadata": {},
   "outputs": [],
   "source": [
    " def receptiveField(convlayers):\n",
    "    l = convlayers.pop(0)\n",
    "    rl = 1 if len(convlayers) == 0 else receptiveField(convlayers)\n",
    "    dil = l.dilation if l.dilation else 1\n",
    "    k = dil * (l.kernelSize - 1) + 1\n",
    "    return l.stride * rl + (k - l.stride)"
   ]
  },
  {
   "cell_type": "code",
   "execution_count": 7,
   "id": "6a17008e-037b-424c-a439-e35018d8517c",
   "metadata": {},
   "outputs": [],
   "source": [
    " layers = [convlayer(kernelSize=8, dilation=1, stride=1),\n",
    " convlayer(kernelSize=16, dilation=1, stride=1),\n",
    " convlayer(kernelSize=32, dilation=1, stride=1),\n",
    " convlayer(kernelSize=64, dilation=1, stride=1)]"
   ]
  },
  {
   "cell_type": "code",
   "execution_count": 8,
   "id": "877b9dfd-b2c5-44ca-8de9-5e146827df00",
   "metadata": {},
   "outputs": [
    {
     "data": {
      "text/plain": [
       "117"
      ]
     },
     "execution_count": 8,
     "metadata": {},
     "output_type": "execute_result"
    }
   ],
   "source": [
    "receptiveField(layers)"
   ]
  },
  {
   "cell_type": "code",
   "execution_count": 9,
   "id": "58a391f8-bbfe-4a38-abca-143f8b220ed7",
   "metadata": {},
   "outputs": [],
   "source": [
    " layers = [convlayer(kernelSize=8, dilation=1, stride=1),\n",
    " convlayer(kernelSize=16, dilation=1, stride=1),\n",
    " convlayer(kernelSize=32, dilation=1, stride=1),\n",
    " convlayer(kernelSize=64, dilation=1, stride=1),\n",
    " convlayer(kernelSize=128, dilation=1, stride=1)]"
   ]
  },
  {
   "cell_type": "code",
   "execution_count": 10,
   "id": "437406ef-94d4-4db1-9e5f-9f98eb963774",
   "metadata": {},
   "outputs": [
    {
     "data": {
      "text/plain": [
       "244"
      ]
     },
     "execution_count": 10,
     "metadata": {},
     "output_type": "execute_result"
    }
   ],
   "source": [
    "receptiveField(layers)"
   ]
  },
  {
   "cell_type": "code",
   "execution_count": 12,
   "id": "a677db10-dbd7-4a7a-9f92-da4d0704804c",
   "metadata": {},
   "outputs": [],
   "source": [
    " for i in range(0):\n",
    "     print(i)"
   ]
  },
  {
   "cell_type": "code",
   "execution_count": 21,
   "id": "3de1b35e-bc6b-4067-9ec5-b7ded41e7a82",
   "metadata": {},
   "outputs": [
    {
     "name": "stdout",
     "output_type": "stream",
     "text": [
      "(2, 1, 64)\n"
     ]
    },
    {
     "name": "stderr",
     "output_type": "stream",
     "text": [
      "/tmp/ipykernel_112421/2239369521.py:32: FutureWarning: the convert_dtype parameter is deprecated and will be removed in a future version.  Do ``ser.astype(object).apply()`` instead if you want ``convert_dtype=False``.\n",
      "  seq_matrix = np.array(data_set['Sequence'].apply(kmer_features, k).tolist())\n"
     ]
    }
   ],
   "source": [
    "import numpy as np\n",
    "import pandas as pd\n",
    "from itertools import product\n",
    "from collections import Counter\n",
    "\n",
    "def kmer_encode(sequence, k=3):\n",
    "    sequence = sequence.upper()\n",
    "    kmers = [sequence[i:i+k] for i in range(len(sequence) - k + 1)]\n",
    "    kmer_counts = Counter(kmers)\n",
    "    total_kmers = len(kmers)\n",
    "    return {kmer: kmer_counts.get(kmer, 0) / total_kmers for kmer in generate_all_kmers(k)}\n",
    "\n",
    "def kmer_features(data_set, k=3):\n",
    "    all_kmers = [''.join(p) for p in product('ACGT', repeat=k)]\n",
    "    feature_matrix = []\n",
    "\n",
    "    kmer_freqs = kmer_encode(seq, k)\n",
    "    feature_vector = [kmer_freqs[kmer] for kmer in all_kmers]\n",
    "    feature_matrix.append(feature_vector)\n",
    "    \n",
    "    return np.array(feature_matrix)\n",
    "\n",
    "# Example usage:\n",
    "data_set = pd.DataFrame({\n",
    "    'Sequence': [\n",
    "        \"ACGTACGTACGTACGTACGTACGTACGTACGTACGTACGTACGTACGTACGTACGTACGT\",\n",
    "        \"TTTACGTGACGTACCCACGTACGTACGTACGTACGTACGTACGTACGTACGTACGTACGT\"\n",
    "    ]\n",
    "})\n",
    "\n",
    "k = 3\n",
    "seq_matrix = np.array(data_set['Sequence'].apply(kmer_features, k).tolist())\n",
    "print(seq_matrix.shape)\n",
    "\n",
    "# Reshape for CNN (if needed)\n",
    "# seq_matrix_cnn = seq_matrix.reshape(seq_matrix.shape[0], seq_matrix.shape[1], 1)  # Adding channel dimension\n",
    "# print(seq_matrix_cnn.shape)  # (number_of_sequences, 4^k, 1)\n"
   ]
  },
  {
   "cell_type": "code",
   "execution_count": 17,
   "id": "0a83a9b0-4eb8-49c1-954b-3220349eb8ef",
   "metadata": {},
   "outputs": [
    {
     "data": {
      "text/plain": [
       "array([[[0.        ],\n",
       "        [0.        ],\n",
       "        [0.        ],\n",
       "        [0.        ],\n",
       "        [0.        ],\n",
       "        [0.        ],\n",
       "        [0.25862069],\n",
       "        [0.        ],\n",
       "        [0.        ],\n",
       "        [0.        ],\n",
       "        [0.        ],\n",
       "        [0.        ],\n",
       "        [0.        ],\n",
       "        [0.        ],\n",
       "        [0.        ],\n",
       "        [0.        ],\n",
       "        [0.        ],\n",
       "        [0.        ],\n",
       "        [0.        ],\n",
       "        [0.        ],\n",
       "        [0.        ],\n",
       "        [0.        ],\n",
       "        [0.        ],\n",
       "        [0.        ],\n",
       "        [0.        ],\n",
       "        [0.        ],\n",
       "        [0.        ],\n",
       "        [0.25862069],\n",
       "        [0.        ],\n",
       "        [0.        ],\n",
       "        [0.        ],\n",
       "        [0.        ],\n",
       "        [0.        ],\n",
       "        [0.        ],\n",
       "        [0.        ],\n",
       "        [0.        ],\n",
       "        [0.        ],\n",
       "        [0.        ],\n",
       "        [0.        ],\n",
       "        [0.        ],\n",
       "        [0.        ],\n",
       "        [0.        ],\n",
       "        [0.        ],\n",
       "        [0.        ],\n",
       "        [0.24137931],\n",
       "        [0.        ],\n",
       "        [0.        ],\n",
       "        [0.        ],\n",
       "        [0.        ],\n",
       "        [0.24137931],\n",
       "        [0.        ],\n",
       "        [0.        ],\n",
       "        [0.        ],\n",
       "        [0.        ],\n",
       "        [0.        ],\n",
       "        [0.        ],\n",
       "        [0.        ],\n",
       "        [0.        ],\n",
       "        [0.        ],\n",
       "        [0.        ],\n",
       "        [0.        ],\n",
       "        [0.        ],\n",
       "        [0.        ],\n",
       "        [0.        ]],\n",
       "\n",
       "       [[0.        ],\n",
       "        [0.        ],\n",
       "        [0.        ],\n",
       "        [0.        ],\n",
       "        [0.        ],\n",
       "        [0.01724138],\n",
       "        [0.22413793],\n",
       "        [0.        ],\n",
       "        [0.        ],\n",
       "        [0.        ],\n",
       "        [0.        ],\n",
       "        [0.        ],\n",
       "        [0.        ],\n",
       "        [0.        ],\n",
       "        [0.        ],\n",
       "        [0.        ],\n",
       "        [0.        ],\n",
       "        [0.01724138],\n",
       "        [0.        ],\n",
       "        [0.        ],\n",
       "        [0.01724138],\n",
       "        [0.01724138],\n",
       "        [0.        ],\n",
       "        [0.        ],\n",
       "        [0.        ],\n",
       "        [0.        ],\n",
       "        [0.        ],\n",
       "        [0.22413793],\n",
       "        [0.        ],\n",
       "        [0.        ],\n",
       "        [0.        ],\n",
       "        [0.        ],\n",
       "        [0.        ],\n",
       "        [0.01724138],\n",
       "        [0.        ],\n",
       "        [0.        ],\n",
       "        [0.        ],\n",
       "        [0.        ],\n",
       "        [0.        ],\n",
       "        [0.        ],\n",
       "        [0.        ],\n",
       "        [0.        ],\n",
       "        [0.        ],\n",
       "        [0.        ],\n",
       "        [0.18965517],\n",
       "        [0.        ],\n",
       "        [0.01724138],\n",
       "        [0.        ],\n",
       "        [0.        ],\n",
       "        [0.20689655],\n",
       "        [0.        ],\n",
       "        [0.        ],\n",
       "        [0.        ],\n",
       "        [0.        ],\n",
       "        [0.        ],\n",
       "        [0.        ],\n",
       "        [0.01724138],\n",
       "        [0.        ],\n",
       "        [0.        ],\n",
       "        [0.        ],\n",
       "        [0.01724138],\n",
       "        [0.        ],\n",
       "        [0.        ],\n",
       "        [0.01724138]]])"
      ]
     },
     "execution_count": 17,
     "metadata": {},
     "output_type": "execute_result"
    }
   ],
   "source": [
    "seq_matrix_cnn"
   ]
  },
  {
   "cell_type": "code",
   "execution_count": null,
   "id": "b886db04-409b-43fd-9239-370293c8a779",
   "metadata": {},
   "outputs": [],
   "source": []
  }
 ],
 "metadata": {
  "kernelspec": {
   "display_name": "Python 3 (ipykernel)",
   "language": "python",
   "name": "python3"
  },
  "language_info": {
   "codemirror_mode": {
    "name": "ipython",
    "version": 3
   },
   "file_extension": ".py",
   "mimetype": "text/x-python",
   "name": "python",
   "nbconvert_exporter": "python",
   "pygments_lexer": "ipython3",
   "version": "3.11.6"
  }
 },
 "nbformat": 4,
 "nbformat_minor": 5
}
