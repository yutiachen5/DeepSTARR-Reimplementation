{
 "cells": [
  {
   "cell_type": "code",
   "execution_count": 3,
   "id": "660d164a-dfcf-4482-a866-809f0cb30bda",
   "metadata": {},
   "outputs": [],
   "source": [
    "# calculate receptive field size for deepstarr\n",
    "# adapted from https://gitlab.oit.duke.edu/igvf/bluestarr-viz/-/blob/main/preds/receptive-field.ipynb?ref_type=heads\n",
    "from collections import namedtuple"
   ]
  },
  {
   "cell_type": "code",
   "execution_count": 4,
   "id": "bb09f307-003b-41c2-9d15-0aedbf41b39a",
   "metadata": {},
   "outputs": [],
   "source": [
    "convlayer = namedtuple('convlayer', [\"kernelSize\",\"dilation\",\"stride\"])"
   ]
  },
  {
   "cell_type": "code",
   "execution_count": 5,
   "id": "55812646-d893-4a31-9053-1b8cee322d93",
   "metadata": {},
   "outputs": [],
   "source": [
    " layers = [convlayer(kernelSize=7, dilation=1, stride=1),\n",
    " convlayer(kernelSize=3, dilation=1, stride=1),\n",
    " convlayer(kernelSize=5, dilation=1, stride=1),\n",
    " convlayer(kernelSize=3, dilation=1, stride=1)]"
   ]
  },
  {
   "cell_type": "code",
   "execution_count": 6,
   "id": "dc36865e-d773-4ede-bed7-6af72e6a3eef",
   "metadata": {},
   "outputs": [],
   "source": [
    " def receptiveField(convlayers):\n",
    "    l = convlayers.pop(0)\n",
    "    rl = 1 if len(convlayers) == 0 else receptiveField(convlayers)\n",
    "    dil = l.dilation if l.dilation else 1\n",
    "    k = dil * (l.kernelSize - 1) + 1\n",
    "    return l.stride * rl + (k - l.stride)"
   ]
  },
  {
   "cell_type": "code",
   "execution_count": 7,
   "id": "6a17008e-037b-424c-a439-e35018d8517c",
   "metadata": {},
   "outputs": [],
   "source": [
    " layers = [convlayer(kernelSize=8, dilation=1, stride=1),\n",
    " convlayer(kernelSize=16, dilation=1, stride=1),\n",
    " convlayer(kernelSize=32, dilation=1, stride=1),\n",
    " convlayer(kernelSize=64, dilation=1, stride=1)]"
   ]
  },
  {
   "cell_type": "code",
   "execution_count": 8,
   "id": "877b9dfd-b2c5-44ca-8de9-5e146827df00",
   "metadata": {},
   "outputs": [
    {
     "data": {
      "text/plain": [
       "117"
      ]
     },
     "execution_count": 8,
     "metadata": {},
     "output_type": "execute_result"
    }
   ],
   "source": [
    "receptiveField(layers)"
   ]
  },
  {
   "cell_type": "code",
   "execution_count": 9,
   "id": "58a391f8-bbfe-4a38-abca-143f8b220ed7",
   "metadata": {},
   "outputs": [],
   "source": [
    " layers = [convlayer(kernelSize=8, dilation=1, stride=1),\n",
    " convlayer(kernelSize=16, dilation=1, stride=1),\n",
    " convlayer(kernelSize=32, dilation=1, stride=1),\n",
    " convlayer(kernelSize=64, dilation=1, stride=1),\n",
    " convlayer(kernelSize=128, dilation=1, stride=1)]"
   ]
  },
  {
   "cell_type": "code",
   "execution_count": 10,
   "id": "437406ef-94d4-4db1-9e5f-9f98eb963774",
   "metadata": {},
   "outputs": [
    {
     "data": {
      "text/plain": [
       "244"
      ]
     },
     "execution_count": 10,
     "metadata": {},
     "output_type": "execute_result"
    }
   ],
   "source": [
    "receptiveField(layers)"
   ]
  }
 ],
 "metadata": {
  "kernelspec": {
   "display_name": "Python 3 (ipykernel)",
   "language": "python",
   "name": "python3"
  },
  "language_info": {
   "codemirror_mode": {
    "name": "ipython",
    "version": 3
   },
   "file_extension": ".py",
   "mimetype": "text/x-python",
   "name": "python",
   "nbconvert_exporter": "python",
   "pygments_lexer": "ipython3",
   "version": "3.11.6"
  }
 },
 "nbformat": 4,
 "nbformat_minor": 5
}
